{
 "cells": [
  {
   "cell_type": "markdown",
   "id": "c874e5d0",
   "metadata": {},
   "source": [
    "#Verilerin İstatistiksel Olarak İncelenmesi ve Aykırı Değerlerin Ayıklanması!"
   ]
  },
  {
   "cell_type": "code",
   "execution_count": 20,
   "id": "44dc75cb",
   "metadata": {},
   "outputs": [],
   "source": [
    "import numpy as np\n",
    "import pandas as pd\n",
    "import matplotlib.pyplot as plt"
   ]
  },
  {
   "cell_type": "code",
   "execution_count": 22,
   "id": "d50dcc0b",
   "metadata": {},
   "outputs": [
    {
     "name": "stdout",
     "output_type": "stream",
     "text": [
      "<class 'pandas.core.frame.DataFrame'>\n",
      "RangeIndex: 432 entries, 0 to 431\n",
      "Data columns (total 10 columns):\n",
      " #   Column        Non-Null Count  Dtype \n",
      "---  ------        --------------  ----- \n",
      " 0   location      432 non-null    object\n",
      " 1   city          432 non-null    object\n",
      " 2   district      432 non-null    object\n",
      " 3   neighborhood  432 non-null    object\n",
      " 4   rooms         432 non-null    int64 \n",
      " 5   living_room   432 non-null    int64 \n",
      " 6   area          432 non-null    int64 \n",
      " 7   age           432 non-null    int64 \n",
      " 8   floor         432 non-null    int64 \n",
      " 9   price         432 non-null    int64 \n",
      "dtypes: int64(6), object(4)\n",
      "memory usage: 33.9+ KB\n",
      "None\n"
     ]
    }
   ],
   "source": [
    "df = pd.read_csv(\n",
    "    \"hepsiemlak/data.csv\"\n",
    ")\n",
    "print(df.info())"
   ]
  },
  {
   "cell_type": "code",
   "execution_count": 23,
   "id": "82eb3ce2",
   "metadata": {},
   "outputs": [],
   "source": [
    "df[\"city\"] = df[\"location\"].astype(\"category\")\n",
    "df[\"district\"] = df[\"district\"].astype(\"category\")\n",
    "df[\"neighborhood\"] = df[\"neighborhood\"].astype(\"category\")\n",
    "df[\"rooms\"] = df[\"rooms\"].astype(int)\n",
    "df[\"area\"] = df[\"area\"].astype(int)\n",
    "df[\"age\"] = df[\"age\"].astype(int)\n",
    "df[\"floor\"] = df[\"floor\"].astype(int)\n",
    "df[\"price\"] = df[\"price\"].astype(int)"
   ]
  },
  {
   "cell_type": "markdown",
   "id": "49074867",
   "metadata": {},
   "source": [
    "##Nümerik Değişkenlerin Min, Max ve Quarter Değerlerinin Bulunması "
   ]
  },
  {
   "cell_type": "code",
   "execution_count": 24,
   "id": "7ad7acd6",
   "metadata": {},
   "outputs": [
    {
     "name": "stdout",
     "output_type": "stream",
     "text": [
      "rooms - Min: 0.5, Max: 4.5\n",
      "living_room - Min: 1.0, Max: 1.0\n",
      "area - Min: -10.0, Max: 230.0\n",
      "age - Min: -29.5, Max: 62.5\n",
      "floor - Min: -3.5, Max: 8.5\n",
      "price - Min: -8687.5, Max: 67812.5\n"
     ]
    }
   ],
   "source": [
    "columns = df.select_dtypes(include=[np.number]).columns\n",
    "min_values = []\n",
    "max_values = []\n",
    "for column in columns:\n",
    "    Q1 = df[column].quantile(0.25)\n",
    "    Q3 = df[column].quantile(0.75)\n",
    "    IQR = Q3 - Q1\n",
    "    min_value = Q1 - 1.5 * IQR\n",
    "    max_value = Q3 + 1.5 * IQR\n",
    "    min_values.append(min_value)\n",
    "    max_values.append(max_value)\n",
    "    print(f\"{column} - Min: {min_value}, Max: {max_value}\")"
   ]
  },
  {
   "cell_type": "markdown",
   "id": "291c0db1",
   "metadata": {},
   "source": [
    "##Aykırı Değerlerin Temizlenmesi"
   ]
  },
  {
   "cell_type": "code",
   "execution_count": 25,
   "id": "4451cbf3",
   "metadata": {},
   "outputs": [],
   "source": [
    "for i, column in enumerate(columns):\n",
    "    df = df[(df[column] >= min_values[i]) & (df[column] <= max_values[i])]"
   ]
  },
  {
   "cell_type": "code",
   "execution_count": 26,
   "id": "66eae876",
   "metadata": {},
   "outputs": [
    {
     "name": "stdout",
     "output_type": "stream",
     "text": [
      "<class 'pandas.core.frame.DataFrame'>\n",
      "Index: 354 entries, 1 to 431\n",
      "Data columns (total 10 columns):\n",
      " #   Column        Non-Null Count  Dtype   \n",
      "---  ------        --------------  -----   \n",
      " 0   location      354 non-null    object  \n",
      " 1   city          354 non-null    category\n",
      " 2   district      354 non-null    category\n",
      " 3   neighborhood  354 non-null    category\n",
      " 4   rooms         354 non-null    int64   \n",
      " 5   living_room   354 non-null    int64   \n",
      " 6   area          354 non-null    int64   \n",
      " 7   age           354 non-null    int64   \n",
      " 8   floor         354 non-null    int64   \n",
      " 9   price         354 non-null    int64   \n",
      "dtypes: category(3), int64(6), object(1)\n",
      "memory usage: 49.9+ KB\n",
      "None\n"
     ]
    }
   ],
   "source": [
    "print(df.info())  # DataFrame'in son halini görüntüle"
   ]
  },
  {
   "cell_type": "code",
   "execution_count": 27,
   "id": "fa1591ee",
   "metadata": {},
   "outputs": [
    {
     "name": "stdout",
     "output_type": "stream",
     "text": [
      "            rooms  living_room        area        age       floor  \\\n",
      "count  354.000000        354.0  354.000000  354.00000  354.000000   \n",
      "mean     2.350282          1.0  109.844633   17.10452    2.514124   \n",
      "std      0.859153          0.0   37.679371   13.46290    1.865468   \n",
      "min      1.000000          1.0   36.000000    0.00000   -3.000000   \n",
      "25%      2.000000          1.0   85.000000    5.00000    1.000000   \n",
      "50%      2.000000          1.0  110.000000   16.00000    2.000000   \n",
      "75%      3.000000          1.0  133.750000   28.00000    4.000000   \n",
      "max      4.000000          1.0  230.000000   50.00000    8.000000   \n",
      "\n",
      "              price  \n",
      "count    354.000000  \n",
      "mean   28195.307910  \n",
      "std    12901.335681  \n",
      "min     2500.000000  \n",
      "25%    19000.000000  \n",
      "50%    25000.000000  \n",
      "75%    35000.000000  \n",
      "max    65000.000000  \n"
     ]
    }
   ],
   "source": [
    "print(df.describe())  # İstatistiksel özet"
   ]
  }
 ],
 "metadata": {
  "kernelspec": {
   "display_name": "base",
   "language": "python",
   "name": "python3"
  },
  "language_info": {
   "codemirror_mode": {
    "name": "ipython",
    "version": 3
   },
   "file_extension": ".py",
   "mimetype": "text/x-python",
   "name": "python",
   "nbconvert_exporter": "python",
   "pygments_lexer": "ipython3",
   "version": "3.13.5"
  }
 },
 "nbformat": 4,
 "nbformat_minor": 5
}
